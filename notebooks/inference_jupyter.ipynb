{
 "cells": [
  {
   "cell_type": "code",
   "id": "0",
   "metadata": {},
   "source": [
    "%load_ext autoreload\n",
    "%autoreload 2\n",
    "\n",
    "import os\n",
    "import sys\n",
    "sys.path.append(os.path.abspath(os.path.join(os.getcwd(), \"..\")))\n",
    "\n",
    "import ipywidgets as widgets\n",
    "import matplotlib.pyplot as plt\n",
    "from ultralytics import YOLO\n",
    "from PIL import Image\n",
    "\n",
    "from digital_wave.config import (\n",
    "    DEMO_DATA_DIR,\n",
    "    MODELS_DIR,\n",
    ")"
   ],
   "outputs": [],
   "execution_count": null
  },
  {
   "cell_type": "code",
   "id": "2",
   "metadata": {},
   "source": [
    "model_name = \"yolov11n_best.pt\"\n",
    "model_path = MODELS_DIR / model_name\n",
    "\n",
    "model = YOLO(model_path)"
   ],
   "outputs": [],
   "execution_count": null
  },
  {
   "cell_type": "code",
   "id": "4",
   "metadata": {},
   "source": [
    "lst_images = list(DEMO_DATA_DIR.glob(\"*\"))\n",
    "\n",
    "@widgets.interact\n",
    "def show_image(img_idx=widgets.IntSlider(value=0, min=0, max=len(lst_images) - 1)):\n",
    "    img_fpath = lst_images[img_idx]\n",
    "    \n",
    "    results = model.predict(img_fpath)\n",
    "    img = Image.fromarray(results[0].plot())\n",
    "    \n",
    "    plt.imshow(img)\n",
    "    plt.axis(\"off\")"
   ],
   "outputs": [],
   "execution_count": null
  },
  {
   "cell_type": "code",
   "id": "5",
   "metadata": {},
   "source": [],
   "outputs": [],
   "execution_count": null
  }
 ],
 "metadata": {
  "kernelspec": {
   "display_name": "Python 3",
   "language": "python",
   "name": "python3"
  },
  "language_info": {
   "codemirror_mode": {
    "name": "ipython",
    "version": 2
   },
   "file_extension": ".py",
   "mimetype": "text/x-python",
   "name": "python",
   "nbconvert_exporter": "python",
   "pygments_lexer": "ipython2",
   "version": "2.7.6"
  }
 },
 "nbformat": 4,
 "nbformat_minor": 5
}
